{
 "cells": [
  {
   "cell_type": "code",
   "execution_count": 1,
   "metadata": {},
   "outputs": [],
   "source": [
    "from bs4 import BeautifulSoup\n",
    "import requests\n",
    "import pandas as pd\n",
    "import numpy as np\n",
    "import matplotlib.pyplot as plt\n",
    "import seaborn as sns\n",
    "import warnings\n",
    "from datetime import datetime, timedelta\n",
    "import openpyxl  # openpyxl 모듈 추가\n",
    "import re\n",
    "\n",
    "sns.set_style('darkgrid')\n",
    "sns.set_palette('Set3')\n",
    "warnings.filterwarnings('ignore')\n",
    "plt.rcParams[\"font.family\"] = \"NanumBarunGothic\"\n"
   ]
  },
  {
   "cell_type": "code",
   "execution_count": 2,
   "metadata": {},
   "outputs": [],
   "source": [
    "import mysql.connector\n",
    "\n",
    "# 데이터베이스 연결\n",
    "conn = mysql.connector.connect(\n",
    "    host='localhost',\n",
    "    user='root',\n",
    "    password='music',\n",
    "    database='MusicDatabase'\n",
    ")\n",
    "\n",
    "cursor = conn.cursor()\n",
    "\n",
    "# 쿼리 실행  기존에 존재하는 데이터는 제외하고  출력\n",
    "# 각 플랫폼별 최신일자 Top10에 대한 정보 출력 ※idol_Group테이블에는 Top10에 대한 그룹정보 저장 \n",
    "# 각 플랫폼별 최신일자 Top10에 대한 싱어코드 추출하여 싱어코드를 바탕으로 멜론 사이트에서 그룹정보 크롤링\n",
    "query = \"\"\"\n",
    "    SELECT Singer_Code\n",
    "    FROM Music\n",
    "    WHERE Day = (SELECT max(Day) FROM Music)\n",
    "    AND Ranking < 11\n",
    "    AND Singer_Code not in (select Group_Code from idol_Group group by Group_Code)\n",
    "    AND Singer_Code IS NOT NULL\n",
    "    GROUP BY Singer_Code\n",
    "    ORDER BY MIN(Ranking) ASC;\n",
    "\"\"\"\n",
    "cursor.execute(query)\n",
    "\n",
    "# 결과 출력\n",
    "Singer_Code_List = cursor.fetchall()\n",
    "for (Singer_Code) in Singer_Code_List:\n",
    "    print(Singer_Code)\n",
    "\n",
    "# 커서와 연결 닫기\n",
    "cursor.close()\n",
    "conn.close()\n",
    "\n"
   ]
  },
  {
   "cell_type": "code",
   "execution_count": 3,
   "metadata": {},
   "outputs": [
    {
     "name": "stdout",
     "output_type": "stream",
     "text": [
      "[]\n"
     ]
    }
   ],
   "source": [
    "\n",
    "Singer_Code_List\n",
    "\n",
    "# 튜플의 첫 번째 요소만 추출\n",
    "singer_codes = [code[0] for code in Singer_Code_List]\n",
    "\n",
    "print(singer_codes)\n"
   ]
  },
  {
   "cell_type": "code",
   "execution_count": 4,
   "metadata": {},
   "outputs": [
    {
     "name": "stdout",
     "output_type": "stream",
     "text": [
      "https://www.melon.com/artist/detail.htm?artistId=614026\n",
      "[]\n",
      "Failed to retrieve data. HTTP Status code: 406\n"
     ]
    }
   ],
   "source": [
    "import requests\n",
    "from bs4 import BeautifulSoup\n",
    "\n",
    "# User-Agent 헤더\n",
    "headers = {\n",
    "    'User-Agent': 'Mozilla/5.0 (Windows NT 10.0; Win64; x64) AppleWebKit/537.36 (KHTML, like Gecko) Chrome/58.0.3029.110 Safari/537.3'\n",
    "}\n",
    "# 아티스트 정보 URL\n",
    "url = \"https://www.melon.com/artist/detail.htm?artistId=614026\"\n",
    "\n",
    "response = requests.get(\"https://www.melon.com/artist/detail.htm?artistId=614026\")\n",
    "\n",
    "\n",
    "print(url)\n",
    "html = response.content.decode('utf-8', 'replace')\n",
    "soup = BeautifulSoup(html, 'html.parser', from_encoding='cp949')\n",
    "\n",
    "my_st = soup.select('#conts')\n",
    "\n",
    "print(my_st)\n",
    "\n",
    "for stock_name in my_st:\n",
    "\n",
    "    # 이미지 URL 추출\n",
    "    img_tag = soup.select_one('#conts > div.wrap_dtl_atist > div > div.wrap_thumb > span > span.thumb_frame')\n",
    "    img_url = img_tag['src'] if img_tag else 'None'\n",
    "\n",
    "    # 결과 출력\n",
    "    print(f\"Group_ImgUrl = {img_url}\")\n",
    "else:\n",
    "    print(f\"Failed to retrieve data. HTTP Status code: {response.status_code}\")\n"
   ]
  },
  {
   "cell_type": "code",
   "execution_count": null,
   "metadata": {},
   "outputs": [],
   "source": [
    "from bs4 import BeautifulSoup\n",
    "from selenium import webdriver\n",
    "from selenium.webdriver.chrome.service import Service\n",
    "from selenium.webdriver.chrome.options import Options\n",
    "from selenium.webdriver.support.ui import WebDriverWait\n",
    "from selenium.webdriver.support import expected_conditions as EC\n",
    "from selenium.webdriver.common.by import By\n",
    "\n",
    "# Selenium 설정\n",
    "chrome_options = Options()\n",
    "chrome_options.add_argument(\"--headless\")  # 브라우저를 화면에 표시하지 않음\n",
    "\n",
    "# Chrome 드라이버 경로 설정\n",
    "driver_service = Service(\"C:/P_Project/chromedriver-win64/chromedriver.exe\")  # 드라이버 경로 설정\n",
    "driver = webdriver.Chrome(service=driver_service, options=chrome_options)\n",
    "\n",
    "# URL 설정\n",
    "url = \"https://www.melon.com/artist/detail.htm?artistId=614026\"\n",
    "driver.get(url)\n",
    "\n",
    "# 페이지가 로드될 때까지 대기\n",
    "try:\n",
    "    # 15초까지 대기하고 아티스트 이미지가 로드될 때까지 대기\n",
    "    WebDriverWait(driver, 15).until(\n",
    "        EC.presence_of_element_located((By.CSS_SELECTOR, '.wrap_thumb img'))\n",
    "    )\n",
    "except Exception as e:\n",
    "    print(f\"Error while waiting for the image: {e}\")\n",
    "\n",
    "# 페이지 소스 가져오기\n",
    "html = driver.page_source\n",
    "\n",
    "# BeautifulSoup을 사용하여 HTML 파싱\n",
    "soup = BeautifulSoup(html, 'html.parser')\n",
    "\n",
    "# 이미지 URL 추출\n",
    "img_tag = soup.select_one('.wrap_thumb img')\n",
    "img_url = img_tag['src'] if img_tag else 'None'\n",
    "\n",
    "# 결과 출력\n",
    "print(f\"Group_ImgUrl = {img_url}\")\n",
    "\n",
    "# 브라우저 종료\n",
    "driver.quit()\n"
   ]
  },
  {
   "cell_type": "code",
   "execution_count": 8,
   "metadata": {},
   "outputs": [
    {
     "name": "stdout",
     "output_type": "stream",
     "text": [
      "(894864,)\n",
      "(3610529,)\n",
      "(2899555,)\n",
      "(2019210,)\n",
      "(3752136,)\n",
      "(3114174,)\n"
     ]
    }
   ],
   "source": [
    "## DB에 있는 IMG와 멜론에 등록된 앨범IMG의 URL를 비교함\n",
    "\n",
    "import mysql.connector\n",
    "\n",
    "# 데이터베이스 연결\n",
    "conn = mysql.connector.connect(\n",
    "    host='localhost',\n",
    "    user='root',\n",
    "    password='music',\n",
    "    database='MusicDatabase'\n",
    ")\n",
    "\n",
    "cursor = conn.cursor()\n",
    "\n",
    "\n",
    "# 최신일자 Top10에 대한 싱어코드를 추출하여 DB에 등록된 앨범이미지의 URL과 멜론 사이트의 앨범이미지 URL을 비교\n",
    "query = \"\"\"\n",
    "    select Singer_Code From Music where 1=1 and ranking < 11 and day = (select Max(day) from Music) and Singer_Code is not null group by Singer_Code;\n",
    "\"\"\"\n",
    "cursor.execute(query)\n",
    "\n",
    "# 결과 출력\n",
    "Group_Code_List = cursor.fetchall()\n",
    "for (Group_Code) in Group_Code_List:\n",
    "    print(Group_Code)\n",
    "\n",
    "# 커서와 연결 닫기\n",
    "cursor.close()\n",
    "conn.close()\n",
    "\n"
   ]
  },
  {
   "cell_type": "code",
   "execution_count": 9,
   "metadata": {},
   "outputs": [
    {
     "name": "stdout",
     "output_type": "stream",
     "text": [
      "[894864, 3610529, 2899555, 2019210, 3752136, 3114174]\n"
     ]
    }
   ],
   "source": [
    "Group_Code_List\n",
    "\n",
    "# 튜플의 첫 번째 요소만 추출\n",
    "group_Codes = [code[0] for code in Group_Code_List]\n",
    "\n",
    "print(group_Codes)\n"
   ]
  },
  {
   "cell_type": "code",
   "execution_count": 10,
   "metadata": {},
   "outputs": [
    {
     "name": "stdout",
     "output_type": "stream",
     "text": [
      "Group_Code 894864의 이미지 URL이 동일합니다.\n",
      "Group_Code 3610529의 이미지 URL이 동일합니다.\n",
      "Group_Code 2899555의 이미지 URL을 업데이트했습니다.\n",
      "SQL Query: UPDATE idol_Group SET Group_ImgUrl = 'https://cdnimg.melon.co.kr/cm2/artistcrop/images/028/99/555/2899555_20241016140306_500.jpg?b77f88c284b4942f1e779097ff66199c/melon/resize/416/quality/80/optimize' WHERE Group_Code = 2899555;\n",
      "Group_Code 2019210의 이미지 URL이 동일합니다.\n",
      "Group_Code 3752136의 이미지 URL이 동일합니다.\n",
      "Group_Code 3114174의 이미지 URL이 동일합니다.\n"
     ]
    }
   ],
   "source": [
    "from selenium import webdriver\n",
    "from selenium.webdriver.chrome.service import Service\n",
    "from bs4 import BeautifulSoup\n",
    "import time\n",
    "import mysql.connector\n",
    "\n",
    "# ChromeDriver 경로 설정\n",
    "driver_path = 'C:\\\\P_Project\\\\chromedriver-win64\\\\chromedriver.exe'\n",
    "service = Service(driver_path)\n",
    "driver = webdriver.Chrome(service=service)\n",
    "\n",
    "# MySQL 연결 설정\n",
    "db = mysql.connector.connect(\n",
    "    host='localhost',\n",
    "    user='root',\n",
    "    password='music',\n",
    "    database='MusicDatabase'\n",
    ")\n",
    "cursor = db.cursor()\n",
    "\n",
    "headers = {\n",
    "    'User-Agent': 'Mozilla/5.0 (Windows NT 10.0; Win64; x64) AppleWebKit/537.36 (KHTML, like Gecko) Chrome/58.0.3029.110 Safari/537.3'\n",
    "}\n",
    "\n",
    "for i in group_Codes:\n",
    "    # 1. 크롤링: 그룹 코드에 대해 이미지 URL을 가져옴\n",
    "    URL = f\"https://www.melon.com/artist/timeline.htm?artistId={i}\"\n",
    "    driver.get(URL)\n",
    "    time.sleep(1)  # 페이지 로딩 대기\n",
    "\n",
    "    html = driver.page_source\n",
    "    soup = BeautifulSoup(html, 'html.parser')\n",
    "\n",
    "    # 이미지 URL 추출\n",
    "    group_img_url = soup.select_one('span#artistImgArea img')['src'] if soup.select_one('span#artistImgArea img') else ''\n",
    "\n",
    "    # 2. 위에서 싱어코드를 추출하여 DB에 등록된 앨범이미지의 URL과 멜론 사이트의 앨범이미지 URL을 비교\n",
    "    query = f\"SELECT A.Group_ImgUrl FROM idol_Group A, Music B WHERE A.Group_Code = {i} and A.Group_Name = B.Singer and B.Ranking < 11 Group by A.Group_ImgUrl\"\n",
    "    cursor.execute(query)\n",
    "    db_img_url = cursor.fetchone()\n",
    "\n",
    "    # 3. 비교 및 업데이트\n",
    "    if db_img_url:\n",
    "        db_img_url = db_img_url[0]  # fetchone은 튜플로 반환되므로 첫 번째 값 가져오기\n",
    "        if group_img_url != db_img_url:  # 이미지 URL이 다를 경우\n",
    "            update_query = f\"UPDATE idol_Group SET Group_ImgUrl = %s WHERE Group_Code = %s\"\n",
    "            cursor.execute(update_query, (group_img_url, i))\n",
    "            db.commit()  # 업데이트 적용\n",
    "            print(f\"Group_Code {i}의 이미지 URL을 업데이트했습니다.\")\n",
    "            print(f\"SQL Query: UPDATE idol_Group SET Group_ImgUrl = '{group_img_url}' WHERE Group_Code = {i};\")\n",
    "        else:\n",
    "            print(f\"Group_Code {i}의 이미지 URL이 동일합니다.\")\n",
    "    else:\n",
    "        print(f\"Group_Code {i}에 대한 정보가 없습니다.\")\n",
    "\n",
    "# 드라이버 종료 및 DB 연결 해제\n",
    "driver.quit()\n",
    "cursor.close()\n",
    "db.close()"
   ]
  }
 ],
 "metadata": {
  "kernelspec": {
   "display_name": "venv",
   "language": "python",
   "name": "python3"
  },
  "language_info": {
   "codemirror_mode": {
    "name": "ipython",
    "version": 3
   },
   "file_extension": ".py",
   "mimetype": "text/x-python",
   "name": "python",
   "nbconvert_exporter": "python",
   "pygments_lexer": "ipython3",
   "version": "3.8.3"
  }
 },
 "nbformat": 4,
 "nbformat_minor": 2
}
