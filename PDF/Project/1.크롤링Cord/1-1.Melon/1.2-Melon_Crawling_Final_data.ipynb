{
 "cells": [
  {
   "cell_type": "code",
   "execution_count": 1,
   "metadata": {},
   "outputs": [],
   "source": [
    "import pandas as pd\n",
    "\n",
    "\n",
    "# pip install openpyxl\n",
    "path = \"C:/P_Project/1.Project/5-Project_data\"\n",
    "# 두 개의 엑셀 파일 불러오기\n",
    "df_no_detail = pd.read_excel(path + '/1.Melon_Crawling_No_Detail_4.30.xlsx')\n",
    "df_detail = pd.read_excel(path + '/1.Melon_Crawling_Detail.4.30.xlsx')\n",
    "\n",
    "# 두 데이터프레임을 앨범 코드를 기준으로 조인하기\n",
    "merged_df = pd.merge(df_no_detail, df_detail, on='album_Code', how='left')\n",
    "\n",
    "# 필요한 컬럼만 선택하여 새로운 데이터프레임 생성\n",
    "final_df = merged_df[['Day', 'Rank', 'Title', 'Singer', 'Album_img_urls', 'album_Code','Release_date', 'Genre_Text']]\n",
    "\n",
    "# 새로운 엑셀 파일로 저장\n",
    "final_df.to_excel('C:/P_Project/1.Project/5-Project_data/1.Melon_Final_Data.4.30.xlsx', index=False)"
   ]
  }
 ],
 "metadata": {
  "kernelspec": {
   "display_name": "Python 3",
   "language": "python",
   "name": "python3"
  },
  "language_info": {
   "codemirror_mode": {
    "name": "ipython",
    "version": 3
   },
   "file_extension": ".py",
   "mimetype": "text/x-python",
   "name": "python",
   "nbconvert_exporter": "python",
   "pygments_lexer": "ipython3",
   "version": "3.8.3"
  }
 },
 "nbformat": 4,
 "nbformat_minor": 2
}
