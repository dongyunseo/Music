{
 "cells": [
  {
   "cell_type": "code",
   "execution_count": 9,
   "metadata": {},
   "outputs": [],
   "source": [
    "from bs4 import BeautifulSoup\n",
    "import requests\n",
    "import pandas as pd\n",
    "import numpy as np\n",
    "import matplotlib.pyplot as plt\n",
    "import seaborn as sns\n",
    "import warnings\n",
    "from datetime import datetime, timedelta\n",
    "import openpyxl  # openpyxl 모듈 추가\n",
    "import re\n",
    "\n",
    "sns.set_style('darkgrid')\n",
    "sns.set_palette('Set3')\n",
    "warnings.filterwarnings('ignore')\n",
    "plt.rcParams[\"font.family\"] = \"NanumBarunGothic\"\n"
   ]
  },
  {
   "cell_type": "code",
   "execution_count": 10,
   "metadata": {},
   "outputs": [
    {
     "name": "stdout",
     "output_type": "stream",
     "text": [
      "(995173,)\n",
      "(712452,)\n",
      "(2399724,)\n"
     ]
    }
   ],
   "source": [
    "import mysql.connector\n",
    "\n",
    "# 데이터베이스 연결\n",
    "conn = mysql.connector.connect(\n",
    "    host='localhost',\n",
    "    user='root',\n",
    "    password='music',\n",
    "    database='MusicDatabase'\n",
    ")\n",
    "\n",
    "cursor = conn.cursor()\n",
    "\n",
    "# 쿼리 실행  기존에 존재하는 데이터는 제외하고  출력\n",
    "# 각 플랫폼별 최신일자 Top10에 대한 정보 출력 ※idol_Group테이블에는 Top10에 대한 그룹정보 저장 \n",
    "# 각 플랫폼별 최신일자 Top10에 대한 싱어코드 추출하여 싱어코드를 바탕으로 멜론 사이트에서 그룹정보 크롤링\n",
    "query = \"\"\"\n",
    "    SELECT Singer_Code\n",
    "    FROM Music\n",
    "    WHERE Day = (SELECT max(Day) FROM Music)\n",
    "    AND Ranking < 11\n",
    "    AND Singer_Code not in (select Group_Code from idol_Group group by Group_Code)\n",
    "    AND Singer_Code IS NOT NULL\n",
    "    GROUP BY Singer_Code\n",
    "    ORDER BY MIN(Ranking) ASC;\n",
    "\"\"\"\n",
    "cursor.execute(query)\n",
    "\n",
    "# 결과 출력\n",
    "Singer_Code_List = cursor.fetchall()\n",
    "for (Singer_Code) in Singer_Code_List:\n",
    "    print(Singer_Code)\n",
    "\n",
    "# 커서와 연결 닫기\n",
    "cursor.close()\n",
    "conn.close()\n",
    "\n"
   ]
  },
  {
   "cell_type": "code",
   "execution_count": 11,
   "metadata": {},
   "outputs": [
    {
     "name": "stdout",
     "output_type": "stream",
     "text": [
      "[995173, 712452, 2399724]\n"
     ]
    }
   ],
   "source": [
    "\n",
    "Singer_Code_List\n",
    "\n",
    "# 튜플의 첫 번째 요소만 추출\n",
    "singer_codes = [code[0] for code in Singer_Code_List]\n",
    "\n",
    "print(singer_codes)\n"
   ]
  },
  {
   "cell_type": "code",
   "execution_count": 12,
   "metadata": {},
   "outputs": [
    {
     "name": "stdout",
     "output_type": "stream",
     "text": [
      "INSERT INTO idol_Group (Group_Code, Group_Name, Group_ImgUrl, debut_Year, debut_song, Year_Active, Group_type, Genre_Text, Company) VALUES (995173,'제니 (JENNIE)','https://cdnimg.melon.co.kr/cm2/artistcrop/images/009/95/173/995173_20241010112324_500.jpg?f086e63a0f6b973fea79264297f49b56/melon/resize/416/quality/80/optimize','2010, 2020 년대','None','솔로 | 여성','국외드라마, 댄스, POP, 랩/힙합, R&B/Soul','(주)YG엔터테인먼트','')\n",
      "INSERT INTO idol_Group (Group_Code, Group_Name, Group_ImgUrl, debut_Year, debut_song, Year_Active, Group_type, Genre_Text, Company) VALUES (712452,'AKMU (악뮤)','https://cdnimg.melon.co.kr/cm2/artistcrop/images/007/12/452/712452_20240603132217_500.jpg?5895e8fcf778b78ce3385759f95fe848/melon/resize/416/quality/80/optimize','2014.04.07','None','2010, 2020 년대','그룹 | 혼성','댄스- 포크/블루스- 발라드- 록/메탈- 국내드라마- R&B/Soul- 일렉트로니카- 랩/힙합- 재즈- 애시드/퓨전/팝','YG Family')\n",
      "INSERT INTO idol_Group (Group_Code, Group_Name, Group_ImgUrl, debut_Year, debut_song, Year_Active, Group_type, Genre_Text, Company) VALUES (2399724,'YENA (최예나)','https://cdnimg.melon.co.kr/cm2/artistcrop/images/023/99/724/2399724_20240927115531_500.jpg?5714443c2c02e87f0fd526f710667cb6/melon/resize/416/quality/80/optimize','2022.01.17','','2010, 2020 년대','솔로 | 여성','댄스- R&B/Soul- 발라드- 록/메탈','')\n"
     ]
    }
   ],
   "source": [
    "from selenium import webdriver\n",
    "from selenium.webdriver.chrome.service import Service\n",
    "from webdriver_manager.chrome import ChromeDriverManager\n",
    "from selenium.webdriver.common.by import By\n",
    "import time\n",
    "from bs4 import BeautifulSoup\n",
    "\n",
    "# Chrome WebDriver 설정\n",
    "service = Service(ChromeDriverManager().install())\n",
    "driver = webdriver.Chrome(service=service)\n",
    "\n",
    "# 타임라인 페이지로 이동\n",
    "for i in singer_codes:\n",
    "    URL = \"https://www.melon.com/artist/timeline.htm?artistId={0}\".format(i)\n",
    "    driver.get(URL)\n",
    "\n",
    "    # 페이지 로딩 대기\n",
    "    time.sleep(1)\n",
    "\n",
    "    detailed_info_link = driver.find_element(By.XPATH, \"//li/a[contains(@title, '상세정보')]\")\n",
    "    detailed_info_link.click()\n",
    "\n",
    "    time.sleep(1)\n",
    "\n",
    "    html = driver.page_source\n",
    "\n",
    "    soup = BeautifulSoup(html, 'html.parser')\n",
    "\n",
    "    conts = soup.select(\"#conts\")\n",
    "\n",
    "    for x in conts:\n",
    "        # 데뷔년도\n",
    "        debut_Year = x.select_one(\"#conts > div.section_atistinfo03 > dl > dd:nth-child(2)\")\n",
    "        G_Name = x.select_one(\"#conts > div.wrap_dtl_atist > div > div.wrap_atist_info > p\")\n",
    "        G_Img = x.select_one(\"#artistImgArea > img\")\n",
    "        debut_song = x.select_one(\"#conts > div.section_atistinfo03 > div > div.debutsong_info_area > div > dl > dd > div > a\")\n",
    "        Year_Active = x.select_one(\"#conts > div.section_atistinfo03 > dl > dd:nth-child(4)\")\n",
    "        Group_type = x.select_one(\"#conts > div.section_atistinfo03 > dl > dd:nth-child(6)\")\n",
    "        Genre_Text = x.select_one(\"#conts > div.section_atistinfo03 > dl > dd:nth-child(8)\")\n",
    "        Company = x.select_one(\"#conts > div.section_atistinfo03 > dl > dd:nth-child(12) > a\")\n",
    "        if debut_Year:\n",
    "            # .text로 문자열로 변환 \n",
    "            debut_year_text = debut_Year.text.strip()  # 공백 제거\n",
    "            G_Name_text = G_Name.text.strip()  # 공백 제거\n",
    "            G_Name_text = G_Name_text.replace(\"아티스트명\", \"\").strip()\n",
    "            img_url = G_Img.get('src')\n",
    "            if debut_song:\n",
    "                debut_song = debut_song.get('a')\n",
    "            else:\n",
    "                debut_song = \"\" \n",
    "\n",
    "            if Year_Active:\n",
    "                Year_Active = Year_Active.text.replace(\"\\n\", \"\").replace(\"\\t\", \"\").replace(\"|\", \" | \").strip()  \n",
    "            else:\n",
    "                Year_Active = \"\"  #\n",
    "\n",
    "            if Group_type:\n",
    "                Group_type = Group_type.text.replace(\"\\n\", \"\").replace(\"\\t\", \"\").replace(\"|\", \" | \").strip()  \n",
    "            else:\n",
    "                Group_type = \"\"  \n",
    "\n",
    "            if Genre_Text:\n",
    "                Genre_Text = Genre_Text.text.replace(\",\", \"-\").strip()  \n",
    "            else:\n",
    "                Genre_Text = \"\"  \n",
    "\n",
    "            \n",
    "            if Company:\n",
    "                Company = Company.text.strip()  \n",
    "            else:\n",
    "                Company = \"\"  \n",
    "\n",
    "            print(\"INSERT INTO idol_Group (Group_Code, Group_Name, Group_ImgUrl, debut_Year, debut_song, Year_Active, Group_type, Genre_Text, Company) VALUES ({0},'{1}','{2}','{3}','{4}','{5}','{6}','{7}','{8}')\".format(i,G_Name_text,img_url,debut_year_text, debut_song,Year_Active,Group_type, Genre_Text,Company))  # 리스트 대신 문자열 출력\n",
    "# 드라이버 종료\n",
    "driver.quit()\n"
   ]
  },
  {
   "cell_type": "code",
   "execution_count": 13,
   "metadata": {},
   "outputs": [
    {
     "name": "stdout",
     "output_type": "stream",
     "text": [
      "(995173,)\n",
      "(712452,)\n",
      "(2399724,)\n",
      "(2899555,)\n",
      "(894864,)\n",
      "(3610529,)\n",
      "(2019210,)\n",
      "(3752136,)\n"
     ]
    }
   ],
   "source": [
    "## DB에 있는 IMG와 멜론에 등록된 앨범IMG의 URL를 비교함\n",
    "\n",
    "import mysql.connector\n",
    "\n",
    "# 데이터베이스 연결\n",
    "conn = mysql.connector.connect(\n",
    "    host='localhost',\n",
    "    user='root',\n",
    "    password='music',\n",
    "    database='MusicDatabase'\n",
    ")\n",
    "\n",
    "cursor = conn.cursor()\n",
    "\n",
    "\n",
    "# 최신일자 Top10에 대한 싱어코드를 추출하여 DB에 등록된 앨범이미지의 URL과 멜론 사이트의 앨범이미지 URL을 비교\n",
    "query = \"\"\"\n",
    "    select Singer_Code From Music where 1=1 and ranking < 11 and day = (select Max(day) from Music) and Singer_Code is not null group by Singer_Code;\n",
    "\"\"\"\n",
    "cursor.execute(query)\n",
    "\n",
    "# 결과 출력\n",
    "Group_Code_List = cursor.fetchall()\n",
    "for (Group_Code) in Group_Code_List:\n",
    "    print(Group_Code)\n",
    "\n",
    "# 커서와 연결 닫기\n",
    "cursor.close()\n",
    "conn.close()\n",
    "\n"
   ]
  },
  {
   "cell_type": "code",
   "execution_count": 16,
   "metadata": {},
   "outputs": [
    {
     "name": "stdout",
     "output_type": "stream",
     "text": [
      "[995173, 712452, 2399724, 2899555, 894864, 3610529, 2019210, 3752136]\n"
     ]
    }
   ],
   "source": [
    "Group_Code_List\n",
    "\n",
    "# 튜플의 첫 번째 요소만 추출\n",
    "group_Codes = [code[0] for code in Group_Code_List]\n",
    "\n",
    "print(group_Codes)\n"
   ]
  },
  {
   "cell_type": "code",
   "execution_count": 17,
   "metadata": {},
   "outputs": [
    {
     "name": "stdout",
     "output_type": "stream",
     "text": [
      "Group_Code 995173의 이미지 URL이 동일합니다.\n",
      "Group_Code 712452의 이미지 URL이 동일합니다.\n",
      "Group_Code 2399724의 이미지 URL이 동일합니다.\n",
      "Group_Code 2899555의 이미지 URL이 동일합니다.\n",
      "Group_Code 894864의 이미지 URL이 동일합니다.\n",
      "Group_Code 3610529의 이미지 URL이 동일합니다.\n",
      "Group_Code 2019210의 이미지 URL이 동일합니다.\n",
      "Group_Code 3752136의 이미지 URL이 동일합니다.\n"
     ]
    }
   ],
   "source": [
    "from selenium import webdriver\n",
    "from selenium.webdriver.chrome.service import Service\n",
    "from bs4 import BeautifulSoup\n",
    "import time\n",
    "import mysql.connector\n",
    "\n",
    "# ChromeDriver 경로 설정\n",
    "driver_path = 'C:\\\\P_Project\\\\chromedriver-win64\\\\chromedriver.exe'\n",
    "service = Service(driver_path)\n",
    "driver = webdriver.Chrome(service=service)\n",
    "\n",
    "# MySQL 연결 설정\n",
    "db = mysql.connector.connect(\n",
    "    host='localhost',\n",
    "    user='root',\n",
    "    password='music',\n",
    "    database='MusicDatabase'\n",
    ")\n",
    "cursor = db.cursor()\n",
    "\n",
    "headers = {\n",
    "    'User-Agent': 'Mozilla/5.0 (Windows NT 10.0; Win64; x64) AppleWebKit/537.36 (KHTML, like Gecko) Chrome/58.0.3029.110 Safari/537.3'\n",
    "}\n",
    "\n",
    "for i in group_Codes:\n",
    "    # 1. 크롤링: 그룹 코드에 대해 이미지 URL을 가져옴\n",
    "    URL = f\"https://www.melon.com/artist/timeline.htm?artistId={i}\"\n",
    "    driver.get(URL)\n",
    "    time.sleep(1)  # 페이지 로딩 대기\n",
    "\n",
    "    html = driver.page_source\n",
    "    soup = BeautifulSoup(html, 'html.parser')\n",
    "\n",
    "    # 이미지 URL 추출\n",
    "    group_img_url = soup.select_one('span#artistImgArea img')['src'] if soup.select_one('span#artistImgArea img') else ''\n",
    "\n",
    "    # 2. 위에서 싱어코드를 추출하여 DB에 등록된 앨범이미지의 URL과 멜론 사이트의 앨범이미지 URL을 비교\n",
    "    query = f\"SELECT A.Group_ImgUrl FROM idol_Group A, Music B WHERE A.Group_Code = {i} and A.Group_Name = B.Singer and B.Ranking < 11 Group by A.Group_ImgUrl\"\n",
    "    cursor.execute(query)\n",
    "    db_img_url = cursor.fetchone()\n",
    "\n",
    "    # 3. 비교 및 업데이트\n",
    "    if db_img_url:\n",
    "        db_img_url = db_img_url[0]  # fetchone은 튜플로 반환되므로 첫 번째 값 가져오기\n",
    "        if group_img_url != db_img_url:  # 이미지 URL이 다를 경우\n",
    "            update_query = f\"UPDATE idol_Group SET Group_ImgUrl = %s WHERE Group_Code = %s\"\n",
    "            cursor.execute(update_query, (group_img_url, i))\n",
    "            db.commit()  # 업데이트 적용\n",
    "            print(f\"Group_Code {i}의 이미지 URL을 업데이트했습니다.\")\n",
    "            print(f\"SQL Query: UPDATE idol_Group SET Group_ImgUrl = '{group_img_url}' WHERE Group_Code = {i};\")\n",
    "        else:\n",
    "            print(f\"Group_Code {i}의 이미지 URL이 동일합니다.\")\n",
    "    else:\n",
    "        print(f\"Group_Code {i}에 대한 정보가 없습니다.\")\n",
    "\n",
    "# 드라이버 종료 및 DB 연결 해제\n",
    "driver.quit()\n",
    "cursor.close()\n",
    "db.close()"
   ]
  }
 ],
 "metadata": {
  "kernelspec": {
   "display_name": "venv",
   "language": "python",
   "name": "python3"
  },
  "language_info": {
   "codemirror_mode": {
    "name": "ipython",
    "version": 3
   },
   "file_extension": ".py",
   "mimetype": "text/x-python",
   "name": "python",
   "nbconvert_exporter": "python",
   "pygments_lexer": "ipython3",
   "version": "3.8.3"
  }
 },
 "nbformat": 4,
 "nbformat_minor": 2
}
