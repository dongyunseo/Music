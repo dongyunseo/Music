{
 "cells": [
  {
   "cell_type": "code",
   "execution_count": 1,
   "metadata": {},
   "outputs": [],
   "source": [
    "from bs4 import BeautifulSoup\n",
    "import requests\n",
    "import pandas as pd\n",
    "import numpy as np\n",
    "import matplotlib.pyplot as plt\n",
    "import seaborn as sns\n",
    "import warnings\n",
    "from datetime import datetime, timedelta\n",
    "import openpyxl  # openpyxl 모듈 추가\n",
    "import re\n",
    "\n",
    "sns.set_style('darkgrid')\n",
    "sns.set_palette('Set3')\n",
    "warnings.filterwarnings('ignore')\n",
    "plt.rcParams[\"font.family\"] = \"NanumBarunGothic\"\n"
   ]
  },
  {
   "cell_type": "code",
   "execution_count": 3,
   "metadata": {},
   "outputs": [
    {
     "name": "stdout",
     "output_type": "stream",
     "text": [
      "20240429\n",
      "https://xn--o39an51b2re.com/chart/melon/daily/20240427\n",
      "실행Count : 3 / 총Count : 2\n",
      "Excel 파일이 저장되었습니다: C:\\P_Project\\1.Project\\5-Project_data\\5.Circle_Final.4.29.xlsx\n"
     ]
    }
   ],
   "source": [
    "\n",
    "headers = {\n",
    "   'User-Agent': 'Mozilla/5.0 (Windows NT 10.0; Win64; x64) AppleWebKit/537.36 (KHTML, like Gecko) Chrome/58.0.3029.110 Safari/537.3'\n",
    "}\n",
    "\n",
    "from datetime import datetime, timedelta\n",
    "\n",
    "response = requests.get(\"https://xn--o39an51b2re.com/chart/circle/digital-weekly/2024/14\", headers=headers)\n",
    "html = response.content.decode('utf-8','replace')\n",
    "soup = BeautifulSoup(html, 'html.parser',from_encoding='cp949')\n",
    "\n",
    "\n",
    "# 엑셀 파일 생성\n",
    "wb = openpyxl.Workbook() \n",
    "ws = wb.active\n",
    "ws.append([\"Day\", \"Rank\", \"Title\", \"Singer\", \"Cover_img\"])\n",
    "\n",
    "# 742 = 해당 사이트의 리스트박스 number\n",
    "Value = 747\n",
    "\n",
    "\n",
    "# 날짜를 문자열로 변환하여 출력합니다.\n",
    "Modified_date = '20240429'\n",
    "print(Modified_date)\n",
    "\n",
    "response_main = requests.get(\"https://xn--o39an51b2re.com/chart/melon/daily/20240427\")\n",
    "# 크롤링할 URL\n",
    "URL_main = \"https://xn--o39an51b2re.com/chart/melon/daily/20240427\"\n",
    "\n",
    "print(URL_main)\n",
    "print(f\"실행Count : {Value-744} / 총Count : {2}\")\n",
    "html_main = response_main.content.decode('utf-8','replace')\n",
    "soup_main = BeautifulSoup(html_main, 'html.parser',from_encoding='cp949')\n",
    "my_st = soup_main.select('#chart-table-content > tbody')\n",
    "\n",
    "for i in my_st:\n",
    "    Rank_Count = 0\n",
    "    for Rank_Count in range(102):\n",
    "        # Circle Ranking\n",
    "        Rank = i.select(\"#chart-table-content > tbody > tr:nth-child({0}) > td.ranking > p:nth-child(1) > span\".format(Rank_Count))\n",
    "        Rank_Num = [int(Rank.text) for Rank in Rank]\n",
    "\n",
    "        # 커버사진 \n",
    "        Cover_img =  [img['src'] for img in i.select(\"#chart-table-content > tbody > tr:nth-child({0}) > td.albumimg > div > img\".format(Rank_Count))]\n",
    "\n",
    "        # Circle 뮤직 Title\n",
    "        Title = i.select(\"#chart-table-content > tbody > tr:nth-child({0}) > td.subject > p:nth-child(1)\".format(Rank_Count))\n",
    "        Title_Text = [Title.text for Title in Title]\n",
    "\n",
    "        # Circle 뮤직 Prod\n",
    "        Prod = i.select(\"#chart-table-content > tbody > tr:nth-child({0}) > td.subject > p.singer > span:nth-child(1)\".format(Rank_Count))\n",
    "        Prod_Text = [Prod.text for Prod in Prod]\n",
    "        # print(f\"Sysdate : {Modified_date}, 랭킹 : {Rank_Num}, 노래제목 : {Title_Text}, 참여가수 : {Prod_Text}\")\n",
    "\n",
    "        for rank_Num, title_Text, prod_Text, cover_img in zip(Rank_Num, Title_Text, Prod_Text, Cover_img):\n",
    "            ws.append([Modified_date, rank_Num, title_Text, prod_Text, cover_img])\n",
    "\n",
    "\n",
    "\n",
    "# 엑셀 파일 저장\n",
    "file_path = r\"C:\\P_Project\\1.Project\\5-Project_data\\5.Circle_Final.4.29.xlsx\"\n",
    "wb.save(file_path)\n",
    "print(\"Excel 파일이 저장되었습니다:\", file_path)\n"
   ]
  }
 ],
 "metadata": {
  "kernelspec": {
   "display_name": "Python 3",
   "language": "python",
   "name": "python3"
  },
  "language_info": {
   "codemirror_mode": {
    "name": "ipython",
    "version": 3
   },
   "file_extension": ".py",
   "mimetype": "text/x-python",
   "name": "python",
   "nbconvert_exporter": "python",
   "pygments_lexer": "ipython3",
   "version": "3.8.3"
  }
 },
 "nbformat": 4,
 "nbformat_minor": 2
}
